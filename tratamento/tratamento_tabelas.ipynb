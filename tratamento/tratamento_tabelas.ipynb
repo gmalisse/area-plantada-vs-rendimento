{
 "cells": [
  {
   "cell_type": "code",
   "execution_count": 12,
   "id": "a71ed649",
   "metadata": {},
   "outputs": [],
   "source": [
    "import pandas as pd"
   ]
  },
  {
   "cell_type": "code",
   "execution_count": 27,
   "id": "0ec629f3",
   "metadata": {},
   "outputs": [],
   "source": [
    "def processar_csv(caminho_entrada, caminho_saida, nomes_colunas):  \n",
    "    df = pd.read_csv(caminho_entrada,  \n",
    "                    skiprows=2, \n",
    "                    sep=\";\", \n",
    "                    skipfooter=24,\n",
    "                    na_values=\"-\",\n",
    "                    engine='python'\n",
    "                    )\n",
    "    \n",
    "    df.columns = nomes_colunas\n",
    "    \n",
    "    df_preenchido = df.fillna(0)\n",
    "\n",
    "    df_preenchido.to_csv(caminho_saida, \n",
    "                        index=False, \n",
    "                        sep=\";\",\n",
    "                        encoding=\"latin1\"\n",
    "                        )"
   ]
  },
  {
   "cell_type": "code",
   "execution_count": null,
   "id": "94a136d0",
   "metadata": {},
   "outputs": [],
   "source": [
    "processar_csv(r\"C:\\Users\\Gustavo\\Desktop\\projeto\\tabelas_originais\\area_plantada\\area_plantada.csv\",\n",
    "              \"area_tratado.csv\",\n",
    "              [\"UF\", \"Cultura\", \"Ano\", \"Area Plantada (ha)\"]\n",
    "              )"
   ]
  },
  {
   "cell_type": "code",
   "execution_count": null,
   "id": "9bb487eb",
   "metadata": {},
   "outputs": [],
   "source": [
    "processar_csv(r\"C:\\Users\\Gustavo\\Desktop\\projeto\\tabelas_originais\\rendimento\\rendimento.csv\",\n",
    "              \"rendimento_tratado.csv\",\n",
    "              [\"UF\", \"Cultura\", \"Ano\", \"Rendimento (kg/ha)\"]\n",
    "              )"
   ]
  }
 ],
 "metadata": {
  "kernelspec": {
   "display_name": "Python 3",
   "language": "python",
   "name": "python3"
  },
  "language_info": {
   "codemirror_mode": {
    "name": "ipython",
    "version": 3
   },
   "file_extension": ".py",
   "mimetype": "text/x-python",
   "name": "python",
   "nbconvert_exporter": "python",
   "pygments_lexer": "ipython3",
   "version": "3.13.3"
  }
 },
 "nbformat": 4,
 "nbformat_minor": 5
}
